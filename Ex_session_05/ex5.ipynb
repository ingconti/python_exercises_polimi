{
 "cells": [
  {
   "cell_type": "markdown",
   "metadata": {},
   "source": [
    "## Intro\n",
    "\n",
    "This ex is a full exercise we will write step by step during all the time.\n",
    "\n",
    "We want to perform data manipulation of Health data take from:\n",
    "https://apps.who.int/gho/athena/api/GHO\".\n",
    "\n",
    "\n",
    "In particular we want to compare alcohol consumption  \n",
    "in two different age ranges in multiple countries in different years.\n"
   ]
  },
  {
   "cell_type": "markdown",
   "metadata": {},
   "source": [
    "\n",
    "\n",
    "Refs:\n",
    "\n",
    "15-19 years old total alcohol consumption in litres of pure alcohol\n",
    "\n",
    "https://www.who.int/data/gho/indicator-metadata-registry/imr-details/465\n",
    "\n",
    "And: (adult)\n",
    "\n",
    "\"Alcohol, recorded per capita consumption (in litres of pure alcohol)\"\n",
    "\n",
    "https://www.who.int/data/gho/indicator-metadata-registry/imr-details/462"
   ]
  },
  {
   "cell_type": "markdown",
   "metadata": {},
   "source": [
    "Codes are: \n",
    "\n",
    "- SA_0000001760                 (15-19 years)\n",
    "- SA_0000001400                 (per capita)\n",
    "\n",
    "Available in \"csv\" format.\n",
    "\n",
    "https://apps.who.int/gho/athena/api/GHO/SA_0000001760?format=csv\n",
    "\n",
    "https://apps.who.int/gho/athena/api/GHO/SA_0000001400?format=csv\n",
    "\n"
   ]
  },
  {
   "cell_type": "markdown",
   "metadata": {},
   "source": [
    "## Text:\n",
    "\n",
    "After downloading files, write a Python program that \n",
    "- reads data from \"csv\" files previously specified, \n",
    "- ask user an year, \n",
    "- compute the delta in consumption of alcohol from \"15-19 years\" to \"adult\" (on all nations that match) where adult use is 30% more than young\n",
    "- add this column delta to dataframe,\n",
    "- plot delta for every country, displaying the full name of nation, on x axis\n",
    "\n",
    "Or \"no data\" if no data can be computed.\n",
    "\n"
   ]
  },
  {
   "cell_type": "markdown",
   "metadata": {},
   "source": [
    "### Notes:\n",
    "\n",
    "1. we must match years that may differ in the two files.\n",
    "2. we must map ISO code between files\n",
    "3. SA_0000001760.csv contains data divided for sex.\n",
    "4. SA_0000001400.csv contains data divided for alcohol type.\n",
    "5. even if SA_0000001760.csv contains only one year,<b>(2010)</b> write program that works if it will contain multiple years.\n",
    "6. we need an auxiliary file to map ISO 3 letters-code to full country name.\n",
    "\n"
   ]
  },
  {
   "cell_type": "markdown",
   "metadata": {},
   "source": [
    "Hints:\n",
    "\n",
    "- use filter to reduce number of lines\n",
    "- cut columns to reduce memory footprint/computational time \n",
    "- use pandas functions  to join datasets (merge)"
   ]
  },
  {
   "cell_type": "code",
   "execution_count": 8,
   "metadata": {},
   "outputs": [
    {
     "name": "stdout",
     "output_type": "stream",
     "text": [
      "type an year 2010\n"
     ]
    },
    {
     "data": {
      "image/png": "[encoded data removed]",
      "text/plain": [
       "<Figure size 432x288 with 1 Axes>"
      ]
     },
     "metadata": {
      "needs_background": "light"
     },
     "output_type": "display_data"
    }
   ],
   "source": [
    "import pandas as pd\n",
    "import matplotlib.pyplot as plt\n",
    "\n",
    "\n",
    "YOUNG_15_19_FNAME = \"SA_0000001760.csv\"\n",
    "ADULT_FNAME       = \"SA_0000001400.csv\"\n",
    "ISO_FNAME         = \"countries.csv\"\n",
    "\n",
    "\n",
    "# 15 / 19:\n",
    "\n",
    "def filterYoungDataOnYearAndSex(df, year):\n",
    "\tfiltered = df[ (df['YEAR'] == year) & (df['SEX'] == 'BTSX') ]\n",
    "\t# now we can delete 'SEX' column, and year, too:\n",
    "\twantedColumns = ['COUNTRY', 'Numeric']\n",
    "\tfiltered = filtered[wantedColumns]\n",
    "\treturn filtered\n",
    "\n",
    "\n",
    "def readAndReduceYoungData(year):\n",
    "\ttry:\n",
    "\t\tdataFrame = pd.read_csv(YOUNG_15_19_FNAME)\n",
    "\t\t# filter columns  needed:\n",
    "\t\twantedColumns = ['YEAR', 'COUNTRY', 'SEX','Numeric']\n",
    "\t\tdataFrame = dataFrame[wantedColumns]\n",
    "\t\tdataFrame = filterYoungDataOnYearAndSex(dataFrame, year)\n",
    "\t\t#dataFrame.to_csv(\"young.csv\", index=False)\n",
    "\texcept:\n",
    "\t\t# return empty dataframe:\n",
    "\t\tdataFrame = pd.DataFrame()\n",
    "\n",
    "\treturn dataFrame\n",
    "\n",
    "#adult:\n",
    "\n",
    "def filterAdultDataOnYearAndAlcohol(df, year):\n",
    "\tfiltered = df[ (df['YEAR'] == year) & (df['ALCOHOLTYPE'] == 'SA_TOTAL') ]\n",
    "\t# now we can delete 'ALCOHOLTYPE' column,, and year, too:\n",
    "\twantedColumns = ['COUNTRY', 'Numeric']\n",
    "\tfiltered = filtered[wantedColumns]\n",
    "\n",
    "\treturn filtered\n",
    "\n",
    "\n",
    "\n",
    "def readAndReduceAdultData(forYear):\n",
    "\ttry:\n",
    "\t\tdataFrame = pd.read_csv(ADULT_FNAME)\n",
    "\t\t# filter columns  needed:\n",
    "\t\twantedColumns = ['YEAR','COUNTRY','ALCOHOLTYPE','Numeric']\n",
    "\t\tdataFrame = dataFrame[wantedColumns]\n",
    "\t\tdataFrame = filterAdultDataOnYearAndAlcohol(dataFrame, forYear)\n",
    "\t\t#dataFrame.to_csv(\"adult.csv\",index=False)\n",
    "\texcept:\n",
    "\t\t# return empty dataframe:\n",
    "\t\tdataFrame = pd.DataFrame()\n",
    "\n",
    "\treturn dataFrame\n",
    "\n",
    "\n",
    "def mergeAndAddDelta(young_15_19_df, adult_df):\n",
    "\t# as both dataframe have the same \"Numeric\" value, we change thewm on fly\n",
    "\t# (not needed but more readable: if we don not rename, we will get:\n",
    "\t# COUNTRY,Numeric_x,Numeric_y as columns name\n",
    "\n",
    "\tmerged = pd.merge(young_15_19_df, adult_df, on='COUNTRY')\n",
    "\tmerged.columns = ['COUNTRY','Numeric_Young','Numeric_Adult'];\n",
    "\tmerged = merged[merged['Numeric_Adult'] > 1.3 * merged['Numeric_Young'] ]\n",
    "\t#add columns:\n",
    "\tmerged['delta'] = merged['Numeric_Adult'] - merged['Numeric_Young']\n",
    "\t#merged.to_csv(\"cartesian.csv\", index=False)\n",
    "\treturn merged\n",
    "\n",
    "\n",
    "def showDiagram(dataframe):\n",
    "\tdataframe.plot(kind = 'bar', x='name', y= 'delta')\n",
    "\tplt.xticks(fontsize=7)\n",
    "\tplt.show()\n",
    "\n",
    "\n",
    "\n",
    "\n",
    "def replaceISOCode(df):\n",
    "\ttry:\n",
    "\t\tISO_dataFrame = pd.read_csv(ISO_FNAME)\n",
    "\t\tISO_dataFrame['alpha3'] = ISO_dataFrame['alpha3'].str.upper()\n",
    "\n",
    "\t\tdataFrame = pd.merge(df, ISO_dataFrame, left_on='COUNTRY', right_on='alpha3')\n",
    "\n",
    "\t\t# strip un neede columns:\n",
    "\t\twantedColumns = ['name', 'delta']\n",
    "\t\tdataFrame = dataFrame[wantedColumns]\n",
    "\texcept:\n",
    "\t\t# return empty dataframe:\n",
    "\t\tdataFrame = pd.DataFrame()\n",
    "\n",
    "\treturn dataFrame\n",
    "\n",
    "def askYear():\n",
    "\tok = False\n",
    "\twhile ok == False:\n",
    "\t\tyear = input(\"type an year \")\n",
    "\t\tok = year.isdigit()\n",
    "\t\tif ok == False:\n",
    "\t\t\tprint(\"wrong input\")\n",
    "\n",
    "\treturn int(year)\n",
    "\n",
    "\n",
    "\n",
    "#main code:\n",
    "#year = 2010 #use 2010\n",
    "year = askYear()\n",
    "\n",
    "young_15_19_df = readAndReduceYoungData(year)\n",
    "if young_15_19_df.empty:\n",
    "\tprint(\"no data\")\n",
    "else:\n",
    "\tadult_df = readAndReduceAdultData(year)\n",
    "\tif adult_df.empty:\n",
    "\t\tprint(\"no data\")\n",
    "\telse:\n",
    "\t\tmerged = mergeAndAddDelta(young_15_19_df, adult_df)\n",
    "\t\twith_ISO = replaceISOCode(merged)\n",
    "\t\tshowDiagram(with_ISO)\n",
    "\n"
   ]
  },
  {
   "cell_type": "markdown",
   "metadata": {},
   "source": [
    "# explanation steps for code\n",
    "\n",
    "\n",
    "During ex5 we will show code n this order:\n",
    "\n",
    "- read input\n",
    "- read data for young people\n",
    "    - filter data / columns\n",
    "- read data for adult people\n",
    "    - filter data / columns\n",
    "- merge data\n",
    "    - filter columns\n",
    "    - add delta columns\n",
    "    - filter on condition on 130%\n",
    "- replace ISO code\n",
    "- plot data\n",
    "\n",
    "\n",
    "In every step we will point out error treatment (files only ) and pandas operator/funcions.\n"
   ]
  },
  {
   "cell_type": "code",
   "execution_count": null,
   "metadata": {},
   "outputs": [],
   "source": []
  }
 ],
 "metadata": {
  "kernelspec": {
   "display_name": "Python 3",
   "language": "python",
   "name": "python3"
  },
  "language_info": {
   "codemirror_mode": {
    "name": "ipython",
    "version": 3
   },
   "file_extension": ".py",
   "mimetype": "text/x-python",
   "name": "python",
   "nbconvert_exporter": "python",
   "pygments_lexer": "ipython3",
   "version": "3.9.0"
  }
 },
 "nbformat": 4,
 "nbformat_minor": 4
}
